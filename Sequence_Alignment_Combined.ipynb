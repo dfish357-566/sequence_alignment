{
  "nbformat": 4,
  "nbformat_minor": 0,
  "metadata": {
    "colab": {
      "name": "Sequence Alignment Combined",
      "provenance": []
    },
    "kernelspec": {
      "name": "python3",
      "display_name": "Python 3"
    },
    "language_info": {
      "name": "python"
    }
  },
  "cells": [
    {
      "cell_type": "markdown",
      "source": [
        "### Read files"
      ],
      "metadata": {
        "id": "Lt7n03feC31G"
      }
    },
    {
      "cell_type": "code",
      "source": [
        "import sys\n",
        "from resource import *\n",
        "import time\n",
        "import psutil\n",
        "import numpy as np\n",
        "import math\n",
        "import re\n",
        "\n",
        "def insert_string(string, index):\n",
        "    ret_string = string[:index+1] + string + string[index+1:]\n",
        "    return ret_string\n",
        "\n",
        "def get_strings(file_name):\n",
        "  indicator = False\n",
        "  indices1 = []\n",
        "  indices2 = []\n",
        "  with open(file_name) as f:\n",
        "      base1 = f.readline().strip()\n",
        "      for line in f:\n",
        "        if not bool(re.search(r'\\d', line)):\n",
        "          base2 = line.strip()\n",
        "          indicator = True\n",
        "        elif not indicator:\n",
        "          indices1.append(line)\n",
        "        else:\n",
        "          indices2.append(line)\n",
        "\n",
        "  indices1 = list(map(str.strip, indices1))\n",
        "  indices2 = list(map(str.strip, indices2))\n",
        "\n",
        "  new_base1 = base1\n",
        "  for i in indices1:\n",
        "    new_base1 = insert_string(new_base1, int(i))\n",
        "\n",
        "  new_base2 = base2\n",
        "  for i in indices2:\n",
        "    new_base2 = insert_string(new_base2, int(i))\n",
        "  \n",
        "  return (new_base1, new_base2, len(new_base1) + len(new_base2))"
      ],
      "metadata": {
        "id": "ejzrpRI4EFCO"
      },
      "execution_count": null,
      "outputs": []
    },
    {
      "cell_type": "code",
      "source": [
        "inputs = []\n",
        "\n",
        "for i in range(1, 16):\n",
        "  inputs.append(get_strings(\"in\" + str(i) + \".txt\"))"
      ],
      "metadata": {
        "id": "WjvJa8J9DyQ7"
      },
      "execution_count": null,
      "outputs": []
    },
    {
      "cell_type": "markdown",
      "source": [
        "### Functions"
      ],
      "metadata": {
        "id": "RSPlbbyMC7RN"
      }
    },
    {
      "cell_type": "code",
      "source": [
        "alpha = {\"AA\": 0, \"AC\": 110, \"AG\": 48, \"AT\": 94,\n",
        "                    \"CC\": 0, \"CA\": 110, \"CG\": 118,\"CT\": 48,\n",
        "                    \"GG\": 0, \"GA\": 48,  \"GC\": 118,\"GT\": 110,\n",
        "                    \"TT\": 0, \"TA\": 94,  \"TC\": 48, \"TG\": 110}  \n",
        "\n",
        "delta = 30\n",
        "\n",
        "def efficient_align(x, y):\n",
        "    if len(x) < 2 or len(y) < 2:\n",
        "        return align(x, y)\n",
        "\n",
        "    Y_prefix = Y_prefix_align(x[:math.floor(len(x) / 2)], y)\n",
        "    Y_suffix = Y_suffix_align(x[math.floor(len(x) / 2):], y)\n",
        "\n",
        "    best = float(\"inf\")\n",
        "    for q in range(0, len(y)+1):\n",
        "      cost = Y_prefix[q] + Y_suffix[len(y) - q]\n",
        "      if cost < best:\n",
        "        bestq = q\n",
        "        best = cost\n",
        "    \n",
        "    align_l = efficient_align(x[:math.floor(len(x) / 2)], y[:bestq])\n",
        "    align_r = efficient_align(x[math.floor(len(x) / 2):], y[bestq:])\n",
        "    l = [align_l[r] + align_r[r] for r in range(3)]\n",
        "\n",
        "    return [align_l[r] + align_r[r] for r in range(3)]\n",
        "\n",
        "\n",
        "def Y_prefix_align(x, y):\n",
        "    dp = np.zeros([len(x) + 1, len(y) + 1]) \n",
        "    dp[0,0:(len(y) + 1)] = [ i * delta for i in range(len(y) + 1)]\n",
        "    \n",
        "    for i in range(1, len(x) + 1):\n",
        "        dp[1][0] = i * delta\n",
        "        for j in range(1, len(y) + 1):\n",
        "            dp[1][j] = min(dp[0][j - 1] + alpha[x[i - 1] + y[j - 1]],\n",
        "                            dp[0][j] + delta,\n",
        "                            dp[1][j - 1] + delta)\n",
        "        for j in range(len(y)+1):\n",
        "            dp[0][j] = dp[1][j]\n",
        "    final = dp[1]\n",
        "    return final\n",
        "\n",
        "def Y_suffix_align(x, y):\n",
        "    dp = np.zeros([len(x) + 1, len(y) + 1]) \n",
        "    dp[0,0:(len(y) + 1)] = [ i * delta for i in range(len(y) + 1)]  \n",
        "\n",
        "    for i in range(1, len(x) + 1):\n",
        "        dp[1][0] = i * delta\n",
        "        for j in range(1, len(y) + 1):\n",
        "            dp[1][j] = min(dp[0][j - 1] + alpha[x[len(x) - i] + y[len(y) - j]],\n",
        "                            dp[0][j] + delta,\n",
        "                            dp[1][j - 1] + delta)\n",
        "        for j in range(len(y) + 1):\n",
        "            dp[0][j] = dp[1][j]\n",
        "    final = dp[1]\n",
        "\n",
        "    return final\n",
        "\n",
        "\n",
        "def align(x, y):\n",
        "    dp = np.zeros([len(x) + 1, len(y) + 1]) \n",
        "    dp[0:(len(x) + 1),0] = [ i * delta for i in range(len(x) + 1)]\n",
        "    dp[0,0:(len(y) + 1)] = [ i * delta for i in range(len(y) + 1)]\n",
        " \n",
        "    i = 1\n",
        "    while i <= len(x):\n",
        "        j = 1\n",
        "        while j <= len(y):\n",
        "            if x[i - 1] == y[j - 1]:\n",
        "                dp[i][j] = dp[i - 1][j - 1]\n",
        "            else:\n",
        "                dp[i][j] = min(dp[i - 1][j - 1] + alpha[x[i - 1] + y[j - 1]],\n",
        "                               dp[i - 1][j] + delta,\n",
        "                               dp[i][j - 1] + delta)\n",
        "            j += 1\n",
        "        i += 1\n",
        "     \n",
        "    i = len(x)\n",
        "    j = len(y)\n",
        "    seq1 = \"\"\n",
        "    seq2 = \"\"\n",
        " \n",
        "    while not (i == 0 or j == 0):\n",
        "        if (dp[i - 1][j - 1] + alpha[x[i - 1] + y[j - 1]]) == dp[i][j]:\n",
        "            seq1 = x[i - 1] + seq1\n",
        "            seq2 = y[j - 1] + seq2\n",
        "            i -= 1\n",
        "            j -= 1\n",
        "         \n",
        "        elif (dp[i - 1][j] + delta) == dp[i][j]:\n",
        "            seq1 = x[i - 1] + seq1\n",
        "            seq2 = \"_\" + seq2\n",
        "            i -= 1\n",
        "         \n",
        "        elif (dp[i][j - 1] + delta) == dp[i][j]:       \n",
        "            seq1 = \"_\" + seq1\n",
        "            seq2 = y[j - 1] + seq2\n",
        "            j -= 1\n",
        "\n",
        "    while i:\n",
        "        seq1 = x[i - 1] + seq1\n",
        "        seq2 = \"_\" + seq2\n",
        "        i -= 1\n",
        "\n",
        "    while j:\n",
        "        seq1 = \"_\" + seq1\n",
        "        seq2 = y[j - 1] + seq2\n",
        "        j -= 1\n",
        "\n",
        "    return seq1, seq2, dp[len(x)][len(y)]"
      ],
      "metadata": {
        "id": "Yb08dPl5C9Wv"
      },
      "execution_count": null,
      "outputs": []
    },
    {
      "cell_type": "markdown",
      "source": [
        "### Time and memory functions"
      ],
      "metadata": {
        "id": "MzV2qjulDSP8"
      }
    },
    {
      "cell_type": "code",
      "source": [
        "def process_memory():\n",
        "    process = psutil.Process()\n",
        "    memory_info = process.memory_info()\n",
        "    memory_consumed = int(memory_info.rss/1024)\n",
        "    return memory_consumed"
      ],
      "metadata": {
        "id": "eBB79VlvDT3C"
      },
      "execution_count": null,
      "outputs": []
    },
    {
      "cell_type": "code",
      "source": [
        "time_data_standard = []\n",
        "mem_data_standard = []\n",
        "\n",
        "for i in inputs:\n",
        "  # standard alg\n",
        "  start_time = time.time()\n",
        "  align(i[0], i[1])\n",
        "  end_time = time.time()\n",
        "  time_taken = (end_time - start_time) * 1000\n",
        "  time_data_standard.append((time_taken, i[2]))\n",
        "  mem_data_standard.append((process_memory(), i[2]))"
      ],
      "metadata": {
        "id": "Fi0vHN6yIjxf"
      },
      "execution_count": null,
      "outputs": []
    },
    {
      "cell_type": "code",
      "source": [
        "time_data_efficient = []\n",
        "mem_data_efficient = []\n",
        "\n",
        "for i in inputs:\n",
        "  # efficient alg\n",
        "  start_time = time.time()\n",
        "  efficient_align(i[0], i[1])\n",
        "  end_time = time.time()\n",
        "  time_taken = (end_time - start_time) * 1000\n",
        "  time_data_efficient.append((time_taken, i[2]))\n",
        "  mem_data_efficient.append((process_memory(), i[2]))"
      ],
      "metadata": {
        "id": "ezP5DuyoAYJL"
      },
      "execution_count": null,
      "outputs": []
    },
    {
      "cell_type": "code",
      "source": [
        "for i in time_data_standard:\n",
        "  print(i)\n",
        "\n",
        "print()\n",
        "\n",
        "for i in time_data_efficient:\n",
        "  print(i)"
      ],
      "metadata": {
        "colab": {
          "base_uri": "https://localhost:8080/"
        },
        "id": "HyTk6Qh2KnQ7",
        "outputId": "81e08f8c-f231-4af7-ae9e-fcb7dd569a27"
      },
      "execution_count": null,
      "outputs": [
        {
          "output_type": "stream",
          "name": "stdout",
          "text": [
            "(0.4038810729980469, 16)\n",
            "(5.0678253173828125, 64)\n",
            "(20.47276496887207, 128)\n",
            "(140.916109085083, 256)\n",
            "(220.70693969726562, 384)\n",
            "(388.0925178527832, 512)\n",
            "(781.6433906555176, 768)\n",
            "(1418.1711673736572, 1024)\n",
            "(2777.930974960327, 1280)\n",
            "(3465.5911922454834, 1536)\n",
            "(3624.5687007904053, 2048)\n",
            "(3997.0953464508057, 2560)\n",
            "(6347.377061843872, 3072)\n",
            "(6864.478826522827, 3584)\n",
            "(9771.59070968628, 3968)\n",
            "\n",
            "(0.6427764892578125, 16)\n",
            "(10.175704956054688, 64)\n",
            "(24.732112884521484, 128)\n",
            "(95.71957588195801, 256)\n",
            "(220.412015914917, 384)\n",
            "(400.35080909729004, 512)\n",
            "(895.7297801971436, 768)\n",
            "(1557.4860572814941, 1024)\n",
            "(2453.754186630249, 1280)\n",
            "(3536.7887020111084, 1536)\n",
            "(6291.191577911377, 2048)\n",
            "(9803.410291671753, 2560)\n",
            "(15202.080249786377, 3072)\n",
            "(19319.928646087646, 3584)\n",
            "(23805.87339401245, 3968)\n"
          ]
        }
      ]
    },
    {
      "cell_type": "code",
      "source": [
        "mem_data_s_diff = [i[0] - mem_data_standard[0][0] for i in mem_data_standard]\n",
        "mem_data_e_diff = [i[0] - mem_data_efficient[0][0] for i in mem_data_efficient]\n",
        "\n",
        "mem_data_s_diff.insert(0, 0)\n",
        "mem_data_e_diff.insert(0,0)"
      ],
      "metadata": {
        "id": "ChetrJu8G_Sh"
      },
      "execution_count": null,
      "outputs": []
    },
    {
      "cell_type": "code",
      "source": [
        "for i in range(len(mem_data_standard)):\n",
        "  print(mem_data_standard[i], mem_data_s_diff[i])"
      ],
      "metadata": {
        "id": "w5iqk_iCHRjf",
        "colab": {
          "base_uri": "https://localhost:8080/"
        },
        "outputId": "935f753d-e764-478a-f265-00c2adbdb84c"
      },
      "execution_count": null,
      "outputs": [
        {
          "output_type": "stream",
          "name": "stdout",
          "text": [
            "(91864, 16) 0\n",
            "(91864, 64) 0\n",
            "(91868, 128) 0\n",
            "(91900, 256) 4\n",
            "(92148, 384) 36\n",
            "(92412, 512) 284\n",
            "(93908, 768) 548\n",
            "(95752, 1024) 2044\n",
            "(97064, 1280) 3888\n",
            "(98376, 1536) 5200\n",
            "(102068, 2048) 6512\n",
            "(106552, 2560) 10204\n",
            "(112344, 3072) 14688\n",
            "(118928, 3584) 20480\n",
            "(124736, 3968) 27064\n"
          ]
        }
      ]
    },
    {
      "cell_type": "code",
      "source": [
        "for i in mem_data_standard:\n",
        "  print(i)\n",
        "\n",
        "print()\n",
        "\n",
        "for i in mem_data_efficient:\n",
        "  print(i)"
      ],
      "metadata": {
        "id": "yjOxYRceARfL",
        "colab": {
          "base_uri": "https://localhost:8080/"
        },
        "outputId": "ac96c129-e090-462f-bfe7-dc409b00ff27"
      },
      "execution_count": null,
      "outputs": [
        {
          "output_type": "stream",
          "name": "stdout",
          "text": [
            "(91864, 16)\n",
            "(91864, 64)\n",
            "(91868, 128)\n",
            "(91900, 256)\n",
            "(92148, 384)\n",
            "(92412, 512)\n",
            "(93908, 768)\n",
            "(95752, 1024)\n",
            "(97064, 1280)\n",
            "(98376, 1536)\n",
            "(102068, 2048)\n",
            "(106552, 2560)\n",
            "(112344, 3072)\n",
            "(118928, 3584)\n",
            "(124736, 3968)\n",
            "\n",
            "(124736, 16)\n",
            "(124736, 64)\n",
            "(124736, 128)\n",
            "(124788, 256)\n",
            "(124800, 384)\n",
            "(124820, 512)\n",
            "(124820, 768)\n",
            "(124820, 1024)\n",
            "(124868, 1280)\n",
            "(124868, 1536)\n",
            "(124948, 2048)\n",
            "(124948, 2560)\n",
            "(124948, 3072)\n",
            "(137768, 3584)\n",
            "(138296, 3968)\n"
          ]
        }
      ]
    },
    {
      "cell_type": "code",
      "source": [
        "mem_data_s = []\n",
        "mem_data_e = []\n",
        "for i in range(len(inputs)):\n",
        "  mem_data_s.append((mem_data_s_diff[i], inputs[i][2]))\n",
        "  mem_data_e.append((mem_data_e_diff[i], inputs[i][2]))"
      ],
      "metadata": {
        "id": "VL0oH7m-CS9r"
      },
      "execution_count": null,
      "outputs": []
    },
    {
      "cell_type": "markdown",
      "source": [
        "### Plots"
      ],
      "metadata": {
        "id": "WBpvH8rukiam"
      }
    },
    {
      "cell_type": "code",
      "source": [
        "import matplotlib.pyplot as plt\n",
        "\n",
        "x1, y1 = zip(*time_data_standard)\n",
        "x2, y2 = zip(*time_data_efficient)\n",
        "\n",
        "\n",
        "\n",
        "plt.plot(y1, x1, marker='o', label='standard')\n",
        "plt.plot(y2, x2, marker='o', label='efficient')\n",
        "plt.legend(loc='upper center')\n",
        "\n",
        "plt.title('Time v. Problem Size')\n",
        "plt.xlabel('Problem Size')\n",
        "plt.ylabel('Time')\n",
        "#plt.show()"
      ],
      "metadata": {
        "id": "_qctp2UTMUMj",
        "colab": {
          "base_uri": "https://localhost:8080/",
          "height": 312
        },
        "outputId": "9d6c1009-c917-491c-d2b8-0deaf3b09b86"
      },
      "execution_count": null,
      "outputs": [
        {
          "output_type": "execute_result",
          "data": {
            "text/plain": [
              "Text(0, 0.5, 'Time')"
            ]
          },
          "metadata": {},
          "execution_count": 12
        },
        {
          "output_type": "display_data",
          "data": {
            "text/plain": [
              "<Figure size 432x288 with 1 Axes>"
            ],
            "image/png": "[encoded data removed]"
          },
          "metadata": {
            "needs_background": "light"
          }
        }
      ]
    },
    {
      "cell_type": "code",
      "source": [
        "# Memory v. Problem Size\n",
        "x1, y1 = zip(*mem_data_s)\n",
        "x2, y2 = zip(*mem_data_e)\n",
        "\n",
        "plt.plot(y1, x1, marker='o', label='standard')\n",
        "plt.plot(y2, x2, marker='o', label='efficient')\n",
        "plt.legend(loc='upper center')\n",
        "\n",
        "plt.title('Memory v. Problem Size')\n",
        "plt.xlabel('Problem Size')\n",
        "plt.ylabel('Memory')\n",
        "#plt.show()"
      ],
      "metadata": {
        "id": "LI4kPVe2OupS",
        "colab": {
          "base_uri": "https://localhost:8080/",
          "height": 312
        },
        "outputId": "e732a0d6-d02e-41e8-e10f-ddc572beee7d"
      },
      "execution_count": null,
      "outputs": [
        {
          "output_type": "execute_result",
          "data": {
            "text/plain": [
              "Text(0, 0.5, 'Memory')"
            ]
          },
          "metadata": {},
          "execution_count": 13
        },
        {
          "output_type": "display_data",
          "data": {
            "text/plain": [
              "<Figure size 432x288 with 1 Axes>"
            ],
            "image/png": "[encoded data removed]"
          },
          "metadata": {
            "needs_background": "light"
          }
        }
      ]
    },
    {
      "cell_type": "code",
      "source": [
        "import pandas as pd\n",
        "# create DataFrame using data\n",
        "problem_sizes = [i[2] for i in inputs]\n",
        "time_s = [i[0] for i in time_data_standard]\n",
        "mem_s = [i[0] for i in mem_data_s]\n",
        "#print(problem_sizes)\n",
        "#print(time_s)\n",
        "#print(mem_s)\n",
        "\n",
        "\n",
        "df = pd.DataFrame(\n",
        "    {'Time': time_s,\n",
        "     'Memory': mem_s,\n",
        "     'Problem Size': problem_sizes\n",
        "    })\n",
        "\n",
        "time_e = [i[0] for i in time_data_efficient]\n",
        "mem_e = [i for i in mem_data_e_diff[1:]]\n",
        "#print(problem_sizes)\n",
        "#print(time_e)\n",
        "#print(mem_e)\n",
        "\n",
        "#print(len(time_e))\n",
        "#print(len(mem_e))\n",
        "#print(len(problem_sizes))\n",
        "\n",
        "df = pd.DataFrame(\n",
        "    {'Time': time_e,\n",
        "     'Memory': mem_e,\n",
        "     'Problem Size': problem_sizes\n",
        "    })\n",
        "\n",
        "df"
      ],
      "metadata": {
        "id": "YlWyDLgEDhlD",
        "colab": {
          "base_uri": "https://localhost:8080/",
          "height": 514
        },
        "outputId": "5b2a0407-b076-4e23-efb3-2c3abe5dca9d"
      },
      "execution_count": null,
      "outputs": [
        {
          "output_type": "execute_result",
          "data": {
            "text/plain": [
              "            Time  Memory  Problem Size\n",
              "0       0.642776       0            16\n",
              "1      10.175705       0            64\n",
              "2      24.732113       0           128\n",
              "3      95.719576      52           256\n",
              "4     220.412016      64           384\n",
              "5     400.350809      84           512\n",
              "6     895.729780      84           768\n",
              "7    1557.486057      84          1024\n",
              "8    2453.754187     132          1280\n",
              "9    3536.788702     132          1536\n",
              "10   6291.191578     212          2048\n",
              "11   9803.410292     212          2560\n",
              "12  15202.080250     212          3072\n",
              "13  19319.928646   13032          3584\n",
              "14  23805.873394   13560          3968"
            ],
            "text/html": [
              "\n",
              "  <div id=\"df-81f44415-70e9-4d23-8eaa-73df619a1c65\">\n",
              "    <div class=\"colab-df-container\">\n",
              "      <div>\n",
              "<style scoped>\n",
              "    .dataframe tbody tr th:only-of-type {\n",
              "        vertical-align: middle;\n",
              "    }\n",
              "\n",
              "    .dataframe tbody tr th {\n",
              "        vertical-align: top;\n",
              "    }\n",
              "\n",
              "    .dataframe thead th {\n",
              "        text-align: right;\n",
              "    }\n",
              "</style>\n",
              "<table border=\"1\" class=\"dataframe\">\n",
              "  <thead>\n",
              "    <tr style=\"text-align: right;\">\n",
              "      <th></th>\n",
              "      <th>Time</th>\n",
              "      <th>Memory</th>\n",
              "      <th>Problem Size</th>\n",
              "    </tr>\n",
              "  </thead>\n",
              "  <tbody>\n",
              "    <tr>\n",
              "      <th>0</th>\n",
              "      <td>0.642776</td>\n",
              "      <td>0</td>\n",
              "      <td>16</td>\n",
              "    </tr>\n",
              "    <tr>\n",
              "      <th>1</th>\n",
              "      <td>10.175705</td>\n",
              "      <td>0</td>\n",
              "      <td>64</td>\n",
              "    </tr>\n",
              "    <tr>\n",
              "      <th>2</th>\n",
              "      <td>24.732113</td>\n",
              "      <td>0</td>\n",
              "      <td>128</td>\n",
              "    </tr>\n",
              "    <tr>\n",
              "      <th>3</th>\n",
              "      <td>95.719576</td>\n",
              "      <td>52</td>\n",
              "      <td>256</td>\n",
              "    </tr>\n",
              "    <tr>\n",
              "      <th>4</th>\n",
              "      <td>220.412016</td>\n",
              "      <td>64</td>\n",
              "      <td>384</td>\n",
              "    </tr>\n",
              "    <tr>\n",
              "      <th>5</th>\n",
              "      <td>400.350809</td>\n",
              "      <td>84</td>\n",
              "      <td>512</td>\n",
              "    </tr>\n",
              "    <tr>\n",
              "      <th>6</th>\n",
              "      <td>895.729780</td>\n",
              "      <td>84</td>\n",
              "      <td>768</td>\n",
              "    </tr>\n",
              "    <tr>\n",
              "      <th>7</th>\n",
              "      <td>1557.486057</td>\n",
              "      <td>84</td>\n",
              "      <td>1024</td>\n",
              "    </tr>\n",
              "    <tr>\n",
              "      <th>8</th>\n",
              "      <td>2453.754187</td>\n",
              "      <td>132</td>\n",
              "      <td>1280</td>\n",
              "    </tr>\n",
              "    <tr>\n",
              "      <th>9</th>\n",
              "      <td>3536.788702</td>\n",
              "      <td>132</td>\n",
              "      <td>1536</td>\n",
              "    </tr>\n",
              "    <tr>\n",
              "      <th>10</th>\n",
              "      <td>6291.191578</td>\n",
              "      <td>212</td>\n",
              "      <td>2048</td>\n",
              "    </tr>\n",
              "    <tr>\n",
              "      <th>11</th>\n",
              "      <td>9803.410292</td>\n",
              "      <td>212</td>\n",
              "      <td>2560</td>\n",
              "    </tr>\n",
              "    <tr>\n",
              "      <th>12</th>\n",
              "      <td>15202.080250</td>\n",
              "      <td>212</td>\n",
              "      <td>3072</td>\n",
              "    </tr>\n",
              "    <tr>\n",
              "      <th>13</th>\n",
              "      <td>19319.928646</td>\n",
              "      <td>13032</td>\n",
              "      <td>3584</td>\n",
              "    </tr>\n",
              "    <tr>\n",
              "      <th>14</th>\n",
              "      <td>23805.873394</td>\n",
              "      <td>13560</td>\n",
              "      <td>3968</td>\n",
              "    </tr>\n",
              "  </tbody>\n",
              "</table>\n",
              "</div>\n",
              "      <button class=\"colab-df-convert\" onclick=\"convertToInteractive('df-81f44415-70e9-4d23-8eaa-73df619a1c65')\"\n",
              "              title=\"Convert this dataframe to an interactive table.\"\n",
              "              style=\"display:none;\">\n",
              "        \n",
              "  <svg xmlns=\"http://www.w3.org/2000/svg\" height=\"24px\"viewBox=\"0 0 24 24\"\n",
              "       width=\"24px\">\n",
              "    <path d=\"M0 0h24v24H0V0z\" fill=\"none\"/>\n",
              "    <path d=\"M18.56 5.44l.94 2.06.94-2.06 2.06-.94-2.06-.94-.94-2.06-.94 2.06-2.06.94zm-11 1L8.5 8.5l.94-2.06 2.06-.94-2.06-.94L8.5 2.5l-.94 2.06-2.06.94zm10 10l.94 2.06.94-2.06 2.06-.94-2.06-.94-.94-2.06-.94 2.06-2.06.94z\"/><path d=\"M17.41 7.96l-1.37-1.37c-.4-.4-.92-.59-1.43-.59-.52 0-1.04.2-1.43.59L10.3 9.45l-7.72 7.72c-.78.78-.78 2.05 0 2.83L4 21.41c.39.39.9.59 1.41.59.51 0 1.02-.2 1.41-.59l7.78-7.78 2.81-2.81c.8-.78.8-2.07 0-2.86zM5.41 20L4 18.59l7.72-7.72 1.47 1.35L5.41 20z\"/>\n",
              "  </svg>\n",
              "      </button>\n",
              "      \n",
              "  <style>\n",
              "    .colab-df-container {\n",
              "      display:flex;\n",
              "      flex-wrap:wrap;\n",
              "      gap: 12px;\n",
              "    }\n",
              "\n",
              "    .colab-df-convert {\n",
              "      background-color: #E8F0FE;\n",
              "      border: none;\n",
              "      border-radius: 50%;\n",
              "      cursor: pointer;\n",
              "      display: none;\n",
              "      fill: #1967D2;\n",
              "      height: 32px;\n",
              "      padding: 0 0 0 0;\n",
              "      width: 32px;\n",
              "    }\n",
              "\n",
              "    .colab-df-convert:hover {\n",
              "      background-color: #E2EBFA;\n",
              "      box-shadow: 0px 1px 2px rgba(60, 64, 67, 0.3), 0px 1px 3px 1px rgba(60, 64, 67, 0.15);\n",
              "      fill: #174EA6;\n",
              "    }\n",
              "\n",
              "    [theme=dark] .colab-df-convert {\n",
              "      background-color: #3B4455;\n",
              "      fill: #D2E3FC;\n",
              "    }\n",
              "\n",
              "    [theme=dark] .colab-df-convert:hover {\n",
              "      background-color: #434B5C;\n",
              "      box-shadow: 0px 1px 3px 1px rgba(0, 0, 0, 0.15);\n",
              "      filter: drop-shadow(0px 1px 2px rgba(0, 0, 0, 0.3));\n",
              "      fill: #FFFFFF;\n",
              "    }\n",
              "  </style>\n",
              "\n",
              "      <script>\n",
              "        const buttonEl =\n",
              "          document.querySelector('#df-81f44415-70e9-4d23-8eaa-73df619a1c65 button.colab-df-convert');\n",
              "        buttonEl.style.display =\n",
              "          google.colab.kernel.accessAllowed ? 'block' : 'none';\n",
              "\n",
              "        async function convertToInteractive(key) {\n",
              "          const element = document.querySelector('#df-81f44415-70e9-4d23-8eaa-73df619a1c65');\n",
              "          const dataTable =\n",
              "            await google.colab.kernel.invokeFunction('convertToInteractive',\n",
              "                                                     [key], {});\n",
              "          if (!dataTable) return;\n",
              "\n",
              "          const docLinkHtml = 'Like what you see? Visit the ' +\n",
              "            '<a target=\"_blank\" href=https://colab.research.google.com/notebooks/data_table.ipynb>data table notebook</a>'\n",
              "            + ' to learn more about interactive tables.';\n",
              "          element.innerHTML = '';\n",
              "          dataTable['output_type'] = 'display_data';\n",
              "          await google.colab.output.renderOutput(dataTable, element);\n",
              "          const docLink = document.createElement('div');\n",
              "          docLink.innerHTML = docLinkHtml;\n",
              "          element.appendChild(docLink);\n",
              "        }\n",
              "      </script>\n",
              "    </div>\n",
              "  </div>\n",
              "  "
            ]
          },
          "metadata": {},
          "execution_count": 32
        }
      ]
    },
    {
      "cell_type": "code",
      "source": [
        "import matplotlib.pyplot as plt\n",
        "\n",
        "ps = [96, 128, 160, 256, 320, 384, 512, 576, 640, 768, 1024, 1152, 1280, 1536, 2048]\n",
        "\n",
        "# for basic\n",
        "memory = [79.999, 154.921, 160.097, 606.705, 605.233, 1201.502, 2394.012, 1205.685, 2415.073, 4763.227, 9507.939, 4771.061, 9501.692, 18964.845, 37891.162]\n",
        "time =[0.0, 0.0, 0.015, 0.057, 0.058, 0.11, 0.213, 0.144, 0.271, 0.554, 0.89, 0.61, 1.216, 2.13, 6.216]\n",
        "\n",
        "# for dc\n",
        "memory_dc = [17.204, 24.254, 19.085, 40.562, 83.886, 43.134, 71.374, 208.849, 48.229, 128.780, 130.338, 458.453, 248.168, 250.314, 245.686 ]\n",
        "time_dc = [0.014, 0.028, 0.033, 0.116, 0.113, 0.226, 0.451, 0.28, 0.461, 1.079, 2.232, 1.29, 2.545, 5.021, 10.811 ]\n",
        "\n",
        "plt.title('Memory(KB) vs Problem Size')\n",
        "\n",
        "plt.plot(ps, memory, label = \"basic\", marker='o', markerfacecolor='blue', markersize=5)\n",
        "plt.plot(ps, memory_dc, label = \"efficient\", marker='o', markerfacecolor='orange', markersize=5)\n",
        "\n",
        "plt.xlabel(\"Problem Size (m+n)\")\n",
        "plt.ylabel(\"Memory (KB)\")\n",
        "plt.legend()\n",
        "\n",
        "plt.savefig('Memory_ProblemSize.png')\n",
        "plt.show()\n",
        "\n",
        "plt.title('Time(s) vs Problem Size')\n",
        "\n",
        "plt.plot(ps, time, label = \"basic\", marker='o', markerfacecolor='blue', markersize=5)\n",
        "plt.plot(ps, time_dc, label = \"efficient\", marker='o', markerfacecolor='orange', markersize=5)\n",
        "\n",
        "plt.xlabel(\"Problem Size (m+n)\")\n",
        "plt.ylabel(\"Time (s)\")\n",
        "plt.legend()\n",
        "\n",
        "#plt.savefig('Time_ProblemSize.png')\n",
        "plt.show()"
      ],
      "metadata": {
        "id": "xxPP3Y-7kMT5"
      },
      "execution_count": null,
      "outputs": []
    }
  ]
}